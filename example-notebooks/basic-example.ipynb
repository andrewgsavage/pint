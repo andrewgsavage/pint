{
  "cells": [
    {
      "cell_type": "markdown",
      "metadata": {
        
      },
      "source": [
        "# Pandas support\n",
        "\n",
        "This notebook provides a simple example of how to use Pint with Pandas. See the documentation for full details."
      ]
    },
    {
      "cell_type": "code",
      "execution_count": 1,
      "metadata": {
        
      },
      "outputs": [
        
      ],
      "source": [
        "import pandas as pd \n",
        "import pint\n",
        "import numpy as np\n",
        "\n",
        "from pint.pandas_interface import PintArray"
      ]
    },
    {
      "cell_type": "code",
      "execution_count": 2,
      "metadata": {
        
      },
      "outputs": [
        
      ],
      "source": [
        "ureg=pint.UnitRegistry()\n",
        "Q_=ureg.Quantity"
      ]
    },
    {
      "cell_type": "markdown",
      "metadata": {
        
      },
      "source": [
        "## Basic example\n",
        "\n",
        "This example shows how the DataFrame works with Pint. However, it's not the most usual case so we also show how to read from a csv below."
      ]
    },
    {
      "cell_type": "code",
      "execution_count": 3,
      "metadata": {
        
      },
      "outputs": [
        {
          "data": {
            "text/html": [
              "<div>\n",
              "<style scoped>\n",
              "    .dataframe tbody tr th:only-of-type {\n",
              "        vertical-align: middle;\n",
              "    }\n",
              "\n",
              "    .dataframe tbody tr th {\n",
              "        vertical-align: top;\n",
              "    }\n",
              "\n",
              "    .dataframe thead th {\n",
              "        text-align: right;\n",
              "    }\n",
              "</style>\n",
              "<table border=\"1\" class=\"dataframe\">\n",
              "  <thead>\n",
              "    <tr style=\"text-align: right;\">\n",
              "      <th></th>\n",
              "      <th>torque</th>\n",
              "      <th>angular_velocity</th>\n",
              "    </tr>\n",
              "  </thead>\n",
              "  <tbody>\n",
              "    <tr>\n",
              "      <th>0</th>\n",
              "      <td>1 foot * force_pound</td>\n",
              "      <td>1000 revolutions_per_minute</td>\n",
              "    </tr>\n",
              "    <tr>\n",
              "      <th>1</th>\n",
              "      <td>2 foot * force_pound</td>\n",
              "      <td>2000 revolutions_per_minute</td>\n",
              "    </tr>\n",
              "    <tr>\n",
              "      <th>2</th>\n",
              "      <td>2 foot * force_pound</td>\n",
              "      <td>2000 revolutions_per_minute</td>\n",
              "    </tr>\n",
              "    <tr>\n",
              "      <th>3</th>\n",
              "      <td>3 foot * force_pound</td>\n",
              "      <td>3000 revolutions_per_minute</td>\n",
              "    </tr>\n",
              "  </tbody>\n",
              "</table>\n",
              "</div>"
            ],
            "text/plain": [
              "                 torque             angular_velocity\n",
              "0  1 foot * force_pound  1000 revolutions_per_minute\n",
              "1  2 foot * force_pound  2000 revolutions_per_minute\n",
              "2  2 foot * force_pound  2000 revolutions_per_minute\n",
              "3  3 foot * force_pound  3000 revolutions_per_minute"
            ]
          },
          "execution_count": 3,
          "metadata": {
            
          },
          "output_type": "execute_result"
        }
      ],
      "source": [
        "df = pd.DataFrame({\n",
        "    \"torque\": PintArray(Q_([1, 2, 2, 3], \"lbf ft\")),\n",
        "    \"angular_velocity\": PintArray(Q_([1000, 2000, 2000, 3000], \"rpm\"))\n",
        "})\n",
        "df"
      ]
    },
    {
      "cell_type": "code",
      "execution_count": 4,
      "metadata": {
        
      },
      "outputs": [
        {
          "data": {
            "text/html": [
              "<div>\n",
              "<style scoped>\n",
              "    .dataframe tbody tr th:only-of-type {\n",
              "        vertical-align: middle;\n",
              "    }\n",
              "\n",
              "    .dataframe tbody tr th {\n",
              "        vertical-align: top;\n",
              "    }\n",
              "\n",
              "    .dataframe thead th {\n",
              "        text-align: right;\n",
              "    }\n",
              "</style>\n",
              "<table border=\"1\" class=\"dataframe\">\n",
              "  <thead>\n",
              "    <tr style=\"text-align: right;\">\n",
              "      <th></th>\n",
              "      <th>torque</th>\n",
              "      <th>angular_velocity</th>\n",
              "      <th>power</th>\n",
              "    </tr>\n",
              "  </thead>\n",
              "  <tbody>\n",
              "    <tr>\n",
              "      <th>0</th>\n",
              "      <td>1 foot * force_pound</td>\n",
              "      <td>1000 revolutions_per_minute</td>\n",
              "      <td>1000 foot * force_pound * revolutions_per_minute</td>\n",
              "    </tr>\n",
              "    <tr>\n",
              "      <th>1</th>\n",
              "      <td>2 foot * force_pound</td>\n",
              "      <td>2000 revolutions_per_minute</td>\n",
              "      <td>4000 foot * force_pound * revolutions_per_minute</td>\n",
              "    </tr>\n",
              "    <tr>\n",
              "      <th>2</th>\n",
              "      <td>2 foot * force_pound</td>\n",
              "      <td>2000 revolutions_per_minute</td>\n",
              "      <td>4000 foot * force_pound * revolutions_per_minute</td>\n",
              "    </tr>\n",
              "    <tr>\n",
              "      <th>3</th>\n",
              "      <td>3 foot * force_pound</td>\n",
              "      <td>3000 revolutions_per_minute</td>\n",
              "      <td>9000 foot * force_pound * revolutions_per_minute</td>\n",
              "    </tr>\n",
              "  </tbody>\n",
              "</table>\n",
              "</div>"
            ],
            "text/plain": [
              "                 torque             angular_velocity  \\\n",
              "0  1 foot * force_pound  1000 revolutions_per_minute   \n",
              "1  2 foot * force_pound  2000 revolutions_per_minute   \n",
              "2  2 foot * force_pound  2000 revolutions_per_minute   \n",
              "3  3 foot * force_pound  3000 revolutions_per_minute   \n",
              "\n",
              "                                              power  \n",
              "0  1000 foot * force_pound * revolutions_per_minute  \n",
              "1  4000 foot * force_pound * revolutions_per_minute  \n",
              "2  4000 foot * force_pound * revolutions_per_minute  \n",
              "3  9000 foot * force_pound * revolutions_per_minute  "
            ]
          },
          "execution_count": 4,
          "metadata": {
            
          },
          "output_type": "execute_result"
        }
      ],
      "source": [
        "df['power'] = df['torque'] * df['angular_velocity']\n",
        "df"
      ]
    },
    {
      "cell_type": "code",
      "execution_count": 5,
      "metadata": {
        
      },
      "outputs": [
        {
          "data": {
            "text/html": [
              "\\[\\begin{pmatrix}1000 & 4000 & 4000 & 9000\\end{pmatrix} foot force_pound revolutions_per_minute\\]"
            ],
            "text/latex": [
              "$\\begin{pmatrix}1000 & 4000 & 4000 & 9000\\end{pmatrix}\\ \\mathrm{foot} \\cdot \\mathrm{force_pound} \\cdot \\mathrm{revolutions_per_minute}$"
            ],
            "text/plain": [
              "array([1000, 4000, 4000, 9000]) <Unit('foot * force_pound * revolutions_per_minute')>"
            ]
          },
          "execution_count": 5,
          "metadata": {
            
          },
          "output_type": "execute_result"
        }
      ],
      "source": [
        "df.power.values.data"
      ]
    },
    {
      "cell_type": "code",
      "execution_count": 6,
      "metadata": {
        
      },
      "outputs": [
        {
          "data": {
            "text/html": [
              "\\[\\begin{pmatrix}1 & 2 & 2 & 3\\end{pmatrix} foot force_pound\\]"
            ],
            "text/latex": [
              "$\\begin{pmatrix}1 & 2 & 2 & 3\\end{pmatrix}\\ \\mathrm{foot} \\cdot \\mathrm{force_pound}$"
            ],
            "text/plain": [
              "array([1, 2, 2, 3]) <Unit('foot * force_pound')>"
            ]
          },
          "execution_count": 6,
          "metadata": {
            
          },
          "output_type": "execute_result"
        }
      ],
      "source": [
        "df.torque.values.data"
      ]
    },
    {
      "cell_type": "code",
      "execution_count": 7,
      "metadata": {
        
      },
      "outputs": [
        {
          "data": {
            "text/html": [
              "\\[\\begin{pmatrix}1000 & 2000 & 2000 & 3000\\end{pmatrix} revolutions_per_minute\\]"
            ],
            "text/latex": [
              "$\\begin{pmatrix}1000 & 2000 & 2000 & 3000\\end{pmatrix}\\ \\mathrm{revolutions_per_minute}$"
            ],
            "text/plain": [
              "array([1000, 2000, 2000, 3000]) <Unit('revolutions_per_minute')>"
            ]
          },
          "execution_count": 7,
          "metadata": {
            
          },
          "output_type": "execute_result"
        }
      ],
      "source": [
        "df.angular_velocity.values.data"
      ]
    },
    {
      "cell_type": "code",
      "execution_count": 8,
      "metadata": {
        
      },
      "outputs": [
        {
          "data": {
            "text/html": [
              "\\[\\begin{pmatrix}0.14198092353610375 & 0.567923694144415 & 0.567923694144415 & 1.2778283118249338\\end{pmatrix} kilowatt\\]"
            ],
            "text/latex": [
              "$\\begin{pmatrix}0.14198092353610375 & 0.567923694144415 & 0.567923694144415 & 1.2778283118249338\\end{pmatrix}\\ \\mathrm{kilowatt}$"
            ],
            "text/plain": [
              "array([0.14198092, 0.56792369, 0.56792369, 1.27782831]) <Unit('kilowatt')>"
            ]
          },
          "execution_count": 8,
          "metadata": {
            
          },
          "output_type": "execute_result"
        }
      ],
      "source": [
        "df.power.values.data.to(\"kW\")"
      ]
    },
    {
      "cell_type": "markdown",
      "metadata": {
        
      },
      "source": [
        "## Reading from csv\n",
        "\n",
        "Reading from files is the far more standard way to use pandas. To facilitate this, DataFrame accessors are provided to make it easy to get to PintArrays. "
      ]
    },
    {
      "cell_type": "markdown",
      "metadata": {
        
      },
      "source": [
        "## Setup\n",
        "\n",
        "Here we create the DateFrame and save it to file, next we will show you how to load and read it.\n",
        "\n",
        "We start with an DateFrame with column headers only."
      ]
    },
    {
      "cell_type": "code",
      "execution_count": 9,
      "metadata": {
        
      },
      "outputs": [
        {
          "data": {
            "text/html": [
              "<div>\n",
              "<style scoped>\n",
              "    .dataframe tbody tr th:only-of-type {\n",
              "        vertical-align: middle;\n",
              "    }\n",
              "\n",
              "    .dataframe tbody tr th {\n",
              "        vertical-align: top;\n",
              "    }\n",
              "\n",
              "    .dataframe thead th {\n",
              "        text-align: right;\n",
              "    }\n",
              "</style>\n",
              "<table border=\"1\" class=\"dataframe\">\n",
              "  <thead>\n",
              "    <tr style=\"text-align: right;\">\n",
              "      <th></th>\n",
              "      <th>speed</th>\n",
              "      <th>mech power</th>\n",
              "      <th>torque</th>\n",
              "      <th>rail pressure</th>\n",
              "      <th>fuel flow rate</th>\n",
              "      <th>fluid power</th>\n",
              "    </tr>\n",
              "  </thead>\n",
              "  <tbody>\n",
              "    <tr>\n",
              "      <th>0</th>\n",
              "      <td>1000</td>\n",
              "      <td>NaN</td>\n",
              "      <td>10</td>\n",
              "      <td>1000</td>\n",
              "      <td>10</td>\n",
              "      <td>NaN</td>\n",
              "    </tr>\n",
              "    <tr>\n",
              "      <th>1</th>\n",
              "      <td>1100</td>\n",
              "      <td>NaN</td>\n",
              "      <td>10</td>\n",
              "      <td>1000000000000</td>\n",
              "      <td>10</td>\n",
              "      <td>NaN</td>\n",
              "    </tr>\n",
              "    <tr>\n",
              "      <th>2</th>\n",
              "      <td>1200</td>\n",
              "      <td>NaN</td>\n",
              "      <td>10</td>\n",
              "      <td>1000</td>\n",
              "      <td>10</td>\n",
              "      <td>NaN</td>\n",
              "    </tr>\n",
              "    <tr>\n",
              "      <th>3</th>\n",
              "      <td>1200</td>\n",
              "      <td>NaN</td>\n",
              "      <td>10</td>\n",
              "      <td>1000</td>\n",
              "      <td>10</td>\n",
              "      <td>NaN</td>\n",
              "    </tr>\n",
              "  </tbody>\n",
              "</table>\n",
              "</div>"
            ],
            "text/plain": [
              "   speed  mech power  torque  rail pressure  fuel flow rate  fluid power\n",
              "0   1000         NaN      10           1000              10          NaN\n",
              "1   1100         NaN      10  1000000000000              10          NaN\n",
              "2   1200         NaN      10           1000              10          NaN\n",
              "3   1200         NaN      10           1000              10          NaN"
            ]
          },
          "execution_count": 9,
          "metadata": {
            
          },
          "output_type": "execute_result"
        }
      ],
      "source": [
        "df_init = pd.DataFrame({\n",
        "    \"speed\": [1000, 1100, 1200, 1200],\n",
        "    \"mech power\": [np.nan, np.nan, np.nan, np.nan],\n",
        "    \"torque\": [10, 10, 10, 10],\n",
        "    \"rail pressure\": [1000, 1000000000000, 1000, 1000],\n",
        "    \"fuel flow rate\": [10, 10, 10, 10],\n",
        "    \"fluid power\": [np.nan, np.nan, np.nan, np.nan],\n",
        "})\n",
        "df_init"
      ]
    },
    {
      "cell_type": "markdown",
      "metadata": {
        
      },
      "source": [
        "Then we add a column header which contains units information"
      ]
    },
    {
      "cell_type": "code",
      "execution_count": 10,
      "metadata": {
        
      },
      "outputs": [
        {
          "data": {
            "text/html": [
              "<div>\n",
              "<style scoped>\n",
              "    .dataframe tbody tr th:only-of-type {\n",
              "        vertical-align: middle;\n",
              "    }\n",
              "\n",
              "    .dataframe tbody tr th {\n",
              "        vertical-align: top;\n",
              "    }\n",
              "\n",
              "    .dataframe thead tr th {\n",
              "        text-align: left;\n",
              "    }\n",
              "</style>\n",
              "<table border=\"1\" class=\"dataframe\">\n",
              "  <thead>\n",
              "    <tr>\n",
              "      <th></th>\n",
              "      <th>speed</th>\n",
              "      <th>mech power</th>\n",
              "      <th>torque</th>\n",
              "      <th>rail pressure</th>\n",
              "      <th>fuel flow rate</th>\n",
              "      <th>fluid power</th>\n",
              "    </tr>\n",
              "    <tr>\n",
              "      <th></th>\n",
              "      <th>rpm</th>\n",
              "      <th>kW</th>\n",
              "      <th>N m</th>\n",
              "      <th>bar</th>\n",
              "      <th>l/min</th>\n",
              "      <th>kW</th>\n",
              "    </tr>\n",
              "  </thead>\n",
              "  <tbody>\n",
              "    <tr>\n",
              "      <th>0</th>\n",
              "      <td>1000</td>\n",
              "      <td>NaN</td>\n",
              "      <td>10</td>\n",
              "      <td>1000</td>\n",
              "      <td>10</td>\n",
              "      <td>NaN</td>\n",
              "    </tr>\n",
              "    <tr>\n",
              "      <th>1</th>\n",
              "      <td>1100</td>\n",
              "      <td>NaN</td>\n",
              "      <td>10</td>\n",
              "      <td>1000000000000</td>\n",
              "      <td>10</td>\n",
              "      <td>NaN</td>\n",
              "    </tr>\n",
              "    <tr>\n",
              "      <th>2</th>\n",
              "      <td>1200</td>\n",
              "      <td>NaN</td>\n",
              "      <td>10</td>\n",
              "      <td>1000</td>\n",
              "      <td>10</td>\n",
              "      <td>NaN</td>\n",
              "    </tr>\n",
              "    <tr>\n",
              "      <th>3</th>\n",
              "      <td>1200</td>\n",
              "      <td>NaN</td>\n",
              "      <td>10</td>\n",
              "      <td>1000</td>\n",
              "      <td>10</td>\n",
              "      <td>NaN</td>\n",
              "    </tr>\n",
              "  </tbody>\n",
              "</table>\n",
              "</div>"
            ],
            "text/plain": [
              "  speed mech power torque  rail pressure fuel flow rate fluid power\n",
              "    rpm         kW    N m            bar          l/min          kW\n",
              "0  1000        NaN     10           1000             10         NaN\n",
              "1  1100        NaN     10  1000000000000             10         NaN\n",
              "2  1200        NaN     10           1000             10         NaN\n",
              "3  1200        NaN     10           1000             10         NaN"
            ]
          },
          "execution_count": 10,
          "metadata": {
            
          },
          "output_type": "execute_result"
        }
      ],
      "source": [
        "units = [\"rpm\", \"kW\", \"N m\", \"bar\", \"l/min\", \"kW\"]\n",
        "df_to_save = df_init.copy()\n",
        "df_to_save.columns = pd.MultiIndex.from_arrays([df_init.columns, units])\n",
        "df_to_save"
      ]
    },
    {
      "cell_type": "markdown",
      "metadata": {
        
      },
      "source": [
        "Now we save this to disk as a csv to give us our starting point."
      ]
    },
    {
      "cell_type": "code",
      "execution_count": 11,
      "metadata": {
        
      },
      "outputs": [
        
      ],
      "source": [
        "test_csv_name = \"pandas_test.csv\"\n",
        "df_to_save.to_csv(test_csv_name, index=False)"
      ]
    },
    {
      "cell_type": "markdown",
      "metadata": {
        
      },
      "source": [
        "Now we are in a position to read the csv we just saved. Let's start by reading the file with units as a level in a multiindex column."
      ]
    },
    {
      "cell_type": "code",
      "execution_count": 12,
      "metadata": {
        
      },
      "outputs": [
        {
          "data": {
            "text/html": [
              "<div>\n",
              "<style scoped>\n",
              "    .dataframe tbody tr th:only-of-type {\n",
              "        vertical-align: middle;\n",
              "    }\n",
              "\n",
              "    .dataframe tbody tr th {\n",
              "        vertical-align: top;\n",
              "    }\n",
              "\n",
              "    .dataframe thead tr th {\n",
              "        text-align: left;\n",
              "    }\n",
              "</style>\n",
              "<table border=\"1\" class=\"dataframe\">\n",
              "  <thead>\n",
              "    <tr>\n",
              "      <th></th>\n",
              "      <th>speed</th>\n",
              "      <th>mech power</th>\n",
              "      <th>torque</th>\n",
              "      <th>rail pressure</th>\n",
              "      <th>fuel flow rate</th>\n",
              "      <th>fluid power</th>\n",
              "    </tr>\n",
              "    <tr>\n",
              "      <th></th>\n",
              "      <th>rpm</th>\n",
              "      <th>kW</th>\n",
              "      <th>N m</th>\n",
              "      <th>bar</th>\n",
              "      <th>l/min</th>\n",
              "      <th>kW</th>\n",
              "    </tr>\n",
              "  </thead>\n",
              "  <tbody>\n",
              "    <tr>\n",
              "      <th>0</th>\n",
              "      <td>1000</td>\n",
              "      <td>NaN</td>\n",
              "      <td>10</td>\n",
              "      <td>1000</td>\n",
              "      <td>10</td>\n",
              "      <td>NaN</td>\n",
              "    </tr>\n",
              "    <tr>\n",
              "      <th>1</th>\n",
              "      <td>1100</td>\n",
              "      <td>NaN</td>\n",
              "      <td>10</td>\n",
              "      <td>1000000000000</td>\n",
              "      <td>10</td>\n",
              "      <td>NaN</td>\n",
              "    </tr>\n",
              "    <tr>\n",
              "      <th>2</th>\n",
              "      <td>1200</td>\n",
              "      <td>NaN</td>\n",
              "      <td>10</td>\n",
              "      <td>1000</td>\n",
              "      <td>10</td>\n",
              "      <td>NaN</td>\n",
              "    </tr>\n",
              "    <tr>\n",
              "      <th>3</th>\n",
              "      <td>1200</td>\n",
              "      <td>NaN</td>\n",
              "      <td>10</td>\n",
              "      <td>1000</td>\n",
              "      <td>10</td>\n",
              "      <td>NaN</td>\n",
              "    </tr>\n",
              "  </tbody>\n",
              "</table>\n",
              "</div>"
            ],
            "text/plain": [
              "  speed mech power torque  rail pressure fuel flow rate fluid power\n",
              "    rpm         kW    N m            bar          l/min          kW\n",
              "0  1000        NaN     10           1000             10         NaN\n",
              "1  1100        NaN     10  1000000000000             10         NaN\n",
              "2  1200        NaN     10           1000             10         NaN\n",
              "3  1200        NaN     10           1000             10         NaN"
            ]
          },
          "execution_count": 12,
          "metadata": {
            
          },
          "output_type": "execute_result"
        }
      ],
      "source": [
        "df = pd.read_csv(test_csv_name, header=[0,1])\n",
        "df"
      ]
    },
    {
      "cell_type": "markdown",
      "metadata": {
        
      },
      "source": [
        "Then use the DataFrame's pint accessor's quantify method to convert the columns from `np.ndarray`s to PintArrays, with units from the bottom column level."
      ]
    },
    {
      "cell_type": "code",
      "execution_count": 13,
      "metadata": {
        
      },
      "outputs": [
        {
          "data": {
            "text/html": [
              "<div>\n",
              "<style scoped>\n",
              "    .dataframe tbody tr th:only-of-type {\n",
              "        vertical-align: middle;\n",
              "    }\n",
              "\n",
              "    .dataframe tbody tr th {\n",
              "        vertical-align: top;\n",
              "    }\n",
              "\n",
              "    .dataframe thead th {\n",
              "        text-align: right;\n",
              "    }\n",
              "</style>\n",
              "<table border=\"1\" class=\"dataframe\">\n",
              "  <thead>\n",
              "    <tr style=\"text-align: right;\">\n",
              "      <th></th>\n",
              "      <th>speed</th>\n",
              "      <th>mech power</th>\n",
              "      <th>torque</th>\n",
              "      <th>rail pressure</th>\n",
              "      <th>fuel flow rate</th>\n",
              "      <th>fluid power</th>\n",
              "    </tr>\n",
              "  </thead>\n",
              "  <tbody>\n",
              "    <tr>\n",
              "      <th>0</th>\n",
              "      <td>1000.0 revolutions_per_minute</td>\n",
              "      <td>nan kilowatt</td>\n",
              "      <td>10.0 meter * newton</td>\n",
              "      <td>1000.0 bar</td>\n",
              "      <td>10.0 liter / minute</td>\n",
              "      <td>nan kilowatt</td>\n",
              "    </tr>\n",
              "    <tr>\n",
              "      <th>1</th>\n",
              "      <td>1100.0 revolutions_per_minute</td>\n",
              "      <td>nan kilowatt</td>\n",
              "      <td>10.0 meter * newton</td>\n",
              "      <td>1000000000000.0 bar</td>\n",
              "      <td>10.0 liter / minute</td>\n",
              "      <td>nan kilowatt</td>\n",
              "    </tr>\n",
              "    <tr>\n",
              "      <th>2</th>\n",
              "      <td>1200.0 revolutions_per_minute</td>\n",
              "      <td>nan kilowatt</td>\n",
              "      <td>10.0 meter * newton</td>\n",
              "      <td>1000.0 bar</td>\n",
              "      <td>10.0 liter / minute</td>\n",
              "      <td>nan kilowatt</td>\n",
              "    </tr>\n",
              "    <tr>\n",
              "      <th>3</th>\n",
              "      <td>1200.0 revolutions_per_minute</td>\n",
              "      <td>nan kilowatt</td>\n",
              "      <td>10.0 meter * newton</td>\n",
              "      <td>1000.0 bar</td>\n",
              "      <td>10.0 liter / minute</td>\n",
              "      <td>nan kilowatt</td>\n",
              "    </tr>\n",
              "  </tbody>\n",
              "</table>\n",
              "</div>"
            ],
            "text/plain": [
              "                           speed    mech power               torque  \\\n",
              "0  1000.0 revolutions_per_minute  nan kilowatt  10.0 meter * newton   \n",
              "1  1100.0 revolutions_per_minute  nan kilowatt  10.0 meter * newton   \n",
              "2  1200.0 revolutions_per_minute  nan kilowatt  10.0 meter * newton   \n",
              "3  1200.0 revolutions_per_minute  nan kilowatt  10.0 meter * newton   \n",
              "\n",
              "         rail pressure       fuel flow rate   fluid power  \n",
              "0           1000.0 bar  10.0 liter / minute  nan kilowatt  \n",
              "1  1000000000000.0 bar  10.0 liter / minute  nan kilowatt  \n",
              "2           1000.0 bar  10.0 liter / minute  nan kilowatt  \n",
              "3           1000.0 bar  10.0 liter / minute  nan kilowatt  "
            ]
          },
          "execution_count": 13,
          "metadata": {
            
          },
          "output_type": "execute_result"
        }
      ],
      "source": [
        "df_ = df.pint.quantify(ureg, level=-1)\n",
        "df_"
      ]
    },
    {
      "cell_type": "markdown",
      "metadata": {
        
      },
      "source": [
        "As previously, operations between DataFrame columns are unit aware"
      ]
    },
    {
      "cell_type": "code",
      "execution_count": 14,
      "metadata": {
        
      },
      "outputs": [
        {
          "data": {
            "text/html": [
              "<div>\n",
              "<style scoped>\n",
              "    .dataframe tbody tr th:only-of-type {\n",
              "        vertical-align: middle;\n",
              "    }\n",
              "\n",
              "    .dataframe tbody tr th {\n",
              "        vertical-align: top;\n",
              "    }\n",
              "\n",
              "    .dataframe thead th {\n",
              "        text-align: right;\n",
              "    }\n",
              "</style>\n",
              "<table border=\"1\" class=\"dataframe\">\n",
              "  <thead>\n",
              "    <tr style=\"text-align: right;\">\n",
              "      <th></th>\n",
              "      <th>speed</th>\n",
              "      <th>mech power</th>\n",
              "      <th>torque</th>\n",
              "      <th>rail pressure</th>\n",
              "      <th>fuel flow rate</th>\n",
              "      <th>fluid power</th>\n",
              "    </tr>\n",
              "  </thead>\n",
              "  <tbody>\n",
              "    <tr>\n",
              "      <th>0</th>\n",
              "      <td>1000.0 revolutions_per_minute</td>\n",
              "      <td>10000.0 meter * newton * revolutions_per_minute</td>\n",
              "      <td>10.0 meter * newton</td>\n",
              "      <td>1000.0 bar</td>\n",
              "      <td>10.0 liter / minute</td>\n",
              "      <td>10000.0 bar * liter / minute</td>\n",
              "    </tr>\n",
              "    <tr>\n",
              "      <th>1</th>\n",
              "      <td>1100.0 revolutions_per_minute</td>\n",
              "      <td>11000.0 meter * newton * revolutions_per_minute</td>\n",
              "      <td>10.0 meter * newton</td>\n",
              "      <td>1000000000000.0 bar</td>\n",
              "      <td>10.0 liter / minute</td>\n",
              "      <td>10000000000000.0 bar * liter / minute</td>\n",
              "    </tr>\n",
              "    <tr>\n",
              "      <th>2</th>\n",
              "      <td>1200.0 revolutions_per_minute</td>\n",
              "      <td>12000.0 meter * newton * revolutions_per_minute</td>\n",
              "      <td>10.0 meter * newton</td>\n",
              "      <td>1000.0 bar</td>\n",
              "      <td>10.0 liter / minute</td>\n",
              "      <td>10000.0 bar * liter / minute</td>\n",
              "    </tr>\n",
              "    <tr>\n",
              "      <th>3</th>\n",
              "      <td>1200.0 revolutions_per_minute</td>\n",
              "      <td>12000.0 meter * newton * revolutions_per_minute</td>\n",
              "      <td>10.0 meter * newton</td>\n",
              "      <td>1000.0 bar</td>\n",
              "      <td>10.0 liter / minute</td>\n",
              "      <td>10000.0 bar * liter / minute</td>\n",
              "    </tr>\n",
              "  </tbody>\n",
              "</table>\n",
              "</div>"
            ],
            "text/plain": [
              "                           speed  \\\n",
              "0  1000.0 revolutions_per_minute   \n",
              "1  1100.0 revolutions_per_minute   \n",
              "2  1200.0 revolutions_per_minute   \n",
              "3  1200.0 revolutions_per_minute   \n",
              "\n",
              "                                        mech power               torque  \\\n",
              "0  10000.0 meter * newton * revolutions_per_minute  10.0 meter * newton   \n",
              "1  11000.0 meter * newton * revolutions_per_minute  10.0 meter * newton   \n",
              "2  12000.0 meter * newton * revolutions_per_minute  10.0 meter * newton   \n",
              "3  12000.0 meter * newton * revolutions_per_minute  10.0 meter * newton   \n",
              "\n",
              "         rail pressure       fuel flow rate  \\\n",
              "0           1000.0 bar  10.0 liter / minute   \n",
              "1  1000000000000.0 bar  10.0 liter / minute   \n",
              "2           1000.0 bar  10.0 liter / minute   \n",
              "3           1000.0 bar  10.0 liter / minute   \n",
              "\n",
              "                             fluid power  \n",
              "0           10000.0 bar * liter / minute  \n",
              "1  10000000000000.0 bar * liter / minute  \n",
              "2           10000.0 bar * liter / minute  \n",
              "3           10000.0 bar * liter / minute  "
            ]
          },
          "execution_count": 14,
          "metadata": {
            
          },
          "output_type": "execute_result"
        }
      ],
      "source": [
        "df_['mech power'] = df_.speed*df_.torque\n",
        "df_['fluid power'] = df_['fuel flow rate'] * df_['rail pressure']\n",
        "df_"
      ]
    },
    {
      "cell_type": "markdown",
      "metadata": {
        
      },
      "source": [
        "The DataFrame's `pint.dequantify` method then allows us to retrieve the units information as a header row once again."
      ]
    },
    {
      "cell_type": "code",
      "execution_count": 15,
      "metadata": {
        
      },
      "outputs": [
        {
          "data": {
            "text/html": [
              "<div>\n",
              "<style scoped>\n",
              "    .dataframe tbody tr th:only-of-type {\n",
              "        vertical-align: middle;\n",
              "    }\n",
              "\n",
              "    .dataframe tbody tr th {\n",
              "        vertical-align: top;\n",
              "    }\n",
              "\n",
              "    .dataframe thead tr th {\n",
              "        text-align: left;\n",
              "    }\n",
              "</style>\n",
              "<table border=\"1\" class=\"dataframe\">\n",
              "  <thead>\n",
              "    <tr>\n",
              "      <th></th>\n",
              "      <th>speed</th>\n",
              "      <th>mech power</th>\n",
              "      <th>torque</th>\n",
              "      <th>rail pressure</th>\n",
              "      <th>fuel flow rate</th>\n",
              "      <th>fluid power</th>\n",
              "    </tr>\n",
              "    <tr>\n",
              "      <th></th>\n",
              "      <th>revolutions_per_minute</th>\n",
              "      <th>meter * newton * revolutions_per_minute</th>\n",
              "      <th>meter * newton</th>\n",
              "      <th>bar</th>\n",
              "      <th>liter / minute</th>\n",
              "      <th>bar * liter / minute</th>\n",
              "    </tr>\n",
              "  </thead>\n",
              "  <tbody>\n",
              "    <tr>\n",
              "      <th>0</th>\n",
              "      <td>1000.0</td>\n",
              "      <td>10000.0</td>\n",
              "      <td>10.0</td>\n",
              "      <td>1.000000e+03</td>\n",
              "      <td>10.0</td>\n",
              "      <td>1.000000e+04</td>\n",
              "    </tr>\n",
              "    <tr>\n",
              "      <th>1</th>\n",
              "      <td>1100.0</td>\n",
              "      <td>11000.0</td>\n",
              "      <td>10.0</td>\n",
              "      <td>1.000000e+12</td>\n",
              "      <td>10.0</td>\n",
              "      <td>1.000000e+13</td>\n",
              "    </tr>\n",
              "    <tr>\n",
              "      <th>2</th>\n",
              "      <td>1200.0</td>\n",
              "      <td>12000.0</td>\n",
              "      <td>10.0</td>\n",
              "      <td>1.000000e+03</td>\n",
              "      <td>10.0</td>\n",
              "      <td>1.000000e+04</td>\n",
              "    </tr>\n",
              "    <tr>\n",
              "      <th>3</th>\n",
              "      <td>1200.0</td>\n",
              "      <td>12000.0</td>\n",
              "      <td>10.0</td>\n",
              "      <td>1.000000e+03</td>\n",
              "      <td>10.0</td>\n",
              "      <td>1.000000e+04</td>\n",
              "    </tr>\n",
              "  </tbody>\n",
              "</table>\n",
              "</div>"
            ],
            "text/plain": [
              "                   speed                              mech power  \\\n",
              "  revolutions_per_minute meter * newton * revolutions_per_minute   \n",
              "0                 1000.0                                 10000.0   \n",
              "1                 1100.0                                 11000.0   \n",
              "2                 1200.0                                 12000.0   \n",
              "3                 1200.0                                 12000.0   \n",
              "\n",
              "          torque rail pressure fuel flow rate          fluid power  \n",
              "  meter * newton           bar liter / minute bar * liter / minute  \n",
              "0           10.0  1.000000e+03           10.0         1.000000e+04  \n",
              "1           10.0  1.000000e+12           10.0         1.000000e+13  \n",
              "2           10.0  1.000000e+03           10.0         1.000000e+04  \n",
              "3           10.0  1.000000e+03           10.0         1.000000e+04  "
            ]
          },
          "execution_count": 15,
          "metadata": {
            
          },
          "output_type": "execute_result"
        }
      ],
      "source": [
        "df_.pint.dequantify()"
      ]
    },
    {
      "cell_type": "markdown",
      "metadata": {
        
      },
      "source": [
        "This allows for some rather powerful abilities. For example, to change single column units"
      ]
    },
    {
      "cell_type": "code",
      "execution_count": 16,
      "metadata": {
        
      },
      "outputs": [
        {
          "data": {
            "text/html": [
              "<div>\n",
              "<style scoped>\n",
              "    .dataframe tbody tr th:only-of-type {\n",
              "        vertical-align: middle;\n",
              "    }\n",
              "\n",
              "    .dataframe tbody tr th {\n",
              "        vertical-align: top;\n",
              "    }\n",
              "\n",
              "    .dataframe thead tr th {\n",
              "        text-align: left;\n",
              "    }\n",
              "</style>\n",
              "<table border=\"1\" class=\"dataframe\">\n",
              "  <thead>\n",
              "    <tr>\n",
              "      <th></th>\n",
              "      <th>speed</th>\n",
              "      <th>mech power</th>\n",
              "      <th>torque</th>\n",
              "      <th>rail pressure</th>\n",
              "      <th>fuel flow rate</th>\n",
              "      <th>fluid power</th>\n",
              "    </tr>\n",
              "    <tr>\n",
              "      <th></th>\n",
              "      <th>revolutions_per_minute</th>\n",
              "      <th>kilowatt</th>\n",
              "      <th>meter * newton</th>\n",
              "      <th>bar</th>\n",
              "      <th>liter / minute</th>\n",
              "      <th>kilowatt</th>\n",
              "    </tr>\n",
              "  </thead>\n",
              "  <tbody>\n",
              "    <tr>\n",
              "      <th>0</th>\n",
              "      <td>1000.0</td>\n",
              "      <td>1.047198</td>\n",
              "      <td>10.0</td>\n",
              "      <td>1.000000e+03</td>\n",
              "      <td>10.0</td>\n",
              "      <td>1.666667e+01</td>\n",
              "    </tr>\n",
              "    <tr>\n",
              "      <th>1</th>\n",
              "      <td>1100.0</td>\n",
              "      <td>1.151917</td>\n",
              "      <td>10.0</td>\n",
              "      <td>1.000000e+12</td>\n",
              "      <td>10.0</td>\n",
              "      <td>1.666667e+10</td>\n",
              "    </tr>\n",
              "    <tr>\n",
              "      <th>2</th>\n",
              "      <td>1200.0</td>\n",
              "      <td>1.256637</td>\n",
              "      <td>10.0</td>\n",
              "      <td>1.000000e+03</td>\n",
              "      <td>10.0</td>\n",
              "      <td>1.666667e+01</td>\n",
              "    </tr>\n",
              "    <tr>\n",
              "      <th>3</th>\n",
              "      <td>1200.0</td>\n",
              "      <td>1.256637</td>\n",
              "      <td>10.0</td>\n",
              "      <td>1.000000e+03</td>\n",
              "      <td>10.0</td>\n",
              "      <td>1.666667e+01</td>\n",
              "    </tr>\n",
              "  </tbody>\n",
              "</table>\n",
              "</div>"
            ],
            "text/plain": [
              "                   speed mech power         torque rail pressure  \\\n",
              "  revolutions_per_minute   kilowatt meter * newton           bar   \n",
              "0                 1000.0   1.047198           10.0  1.000000e+03   \n",
              "1                 1100.0   1.151917           10.0  1.000000e+12   \n",
              "2                 1200.0   1.256637           10.0  1.000000e+03   \n",
              "3                 1200.0   1.256637           10.0  1.000000e+03   \n",
              "\n",
              "  fuel flow rate   fluid power  \n",
              "  liter / minute      kilowatt  \n",
              "0           10.0  1.666667e+01  \n",
              "1           10.0  1.666667e+10  \n",
              "2           10.0  1.666667e+01  \n",
              "3           10.0  1.666667e+01  "
            ]
          },
          "execution_count": 16,
          "metadata": {
            
          },
          "output_type": "execute_result"
        }
      ],
      "source": [
        "df_['fluid power'] = df_['fluid power'].pint.to(\"kW\")\n",
        "df_['mech power'] = df_['mech power'].pint.to(\"kW\")\n",
        "df_.pint.dequantify()"
      ]
    },
    {
      "cell_type": "markdown",
      "metadata": {
        
      },
      "source": [
        "or the entire table's units"
      ]
    },
    {
      "cell_type": "code",
      "execution_count": 17,
      "metadata": {
        
      },
      "outputs": [
        {
          "data": {
            "text/html": [
              "<div>\n",
              "<style scoped>\n",
              "    .dataframe tbody tr th:only-of-type {\n",
              "        vertical-align: middle;\n",
              "    }\n",
              "\n",
              "    .dataframe tbody tr th {\n",
              "        vertical-align: top;\n",
              "    }\n",
              "\n",
              "    .dataframe thead tr th {\n",
              "        text-align: left;\n",
              "    }\n",
              "</style>\n",
              "<table border=\"1\" class=\"dataframe\">\n",
              "  <thead>\n",
              "    <tr>\n",
              "      <th></th>\n",
              "      <th>speed</th>\n",
              "      <th>mech power</th>\n",
              "      <th>torque</th>\n",
              "      <th>rail pressure</th>\n",
              "      <th>fuel flow rate</th>\n",
              "      <th>fluid power</th>\n",
              "    </tr>\n",
              "    <tr>\n",
              "      <th></th>\n",
              "      <th>radian / second</th>\n",
              "      <th>kilogram * meter ** 2 / second ** 3</th>\n",
              "      <th>kilogram * meter ** 2 / second ** 2</th>\n",
              "      <th>kilogram / meter / second ** 2</th>\n",
              "      <th>meter ** 3 / second</th>\n",
              "      <th>kilogram * meter ** 2 / second ** 3</th>\n",
              "    </tr>\n",
              "  </thead>\n",
              "  <tbody>\n",
              "    <tr>\n",
              "      <th>0</th>\n",
              "      <td>104.719755</td>\n",
              "      <td>1047.197551</td>\n",
              "      <td>10.0</td>\n",
              "      <td>1.000000e+08</td>\n",
              "      <td>0.000167</td>\n",
              "      <td>1.666667e+04</td>\n",
              "    </tr>\n",
              "    <tr>\n",
              "      <th>1</th>\n",
              "      <td>115.191731</td>\n",
              "      <td>1151.917306</td>\n",
              "      <td>10.0</td>\n",
              "      <td>1.000000e+17</td>\n",
              "      <td>0.000167</td>\n",
              "      <td>1.666667e+13</td>\n",
              "    </tr>\n",
              "    <tr>\n",
              "      <th>2</th>\n",
              "      <td>125.663706</td>\n",
              "      <td>1256.637061</td>\n",
              "      <td>10.0</td>\n",
              "      <td>1.000000e+08</td>\n",
              "      <td>0.000167</td>\n",
              "      <td>1.666667e+04</td>\n",
              "    </tr>\n",
              "    <tr>\n",
              "      <th>3</th>\n",
              "      <td>125.663706</td>\n",
              "      <td>1256.637061</td>\n",
              "      <td>10.0</td>\n",
              "      <td>1.000000e+08</td>\n",
              "      <td>0.000167</td>\n",
              "      <td>1.666667e+04</td>\n",
              "    </tr>\n",
              "  </tbody>\n",
              "</table>\n",
              "</div>"
            ],
            "text/plain": [
              "            speed                          mech power  \\\n",
              "  radian / second kilogram * meter ** 2 / second ** 3   \n",
              "0      104.719755                         1047.197551   \n",
              "1      115.191731                         1151.917306   \n",
              "2      125.663706                         1256.637061   \n",
              "3      125.663706                         1256.637061   \n",
              "\n",
              "                               torque                  rail pressure  \\\n",
              "  kilogram * meter ** 2 / second ** 2 kilogram / meter / second ** 2   \n",
              "0                                10.0                   1.000000e+08   \n",
              "1                                10.0                   1.000000e+17   \n",
              "2                                10.0                   1.000000e+08   \n",
              "3                                10.0                   1.000000e+08   \n",
              "\n",
              "       fuel flow rate                         fluid power  \n",
              "  meter ** 3 / second kilogram * meter ** 2 / second ** 3  \n",
              "0            0.000167                        1.666667e+04  \n",
              "1            0.000167                        1.666667e+13  \n",
              "2            0.000167                        1.666667e+04  \n",
              "3            0.000167                        1.666667e+04  "
            ]
          },
          "execution_count": 17,
          "metadata": {
            
          },
          "output_type": "execute_result"
        }
      ],
      "source": [
        "df_.pint.to_base_units().pint.dequantify()"
      ]
    }
  ],
  "metadata": {
    "kernelspec": {
      "display_name": "Python 3",
      "language": "python",
      "name": "python3"
    },
    "language_info": {
      "codemirror_mode": {
        "name": "ipython",
        "version": 3
      },
      "file_extension": ".py",
      "mimetype": "text/x-python",
      "name": "python",
      "nbconvert_exporter": "python",
      "pygments_lexer": "ipython3",
      "version": "3.6.6"
    }
  },
  "nbformat": 4,
  "nbformat_minor": 2
}